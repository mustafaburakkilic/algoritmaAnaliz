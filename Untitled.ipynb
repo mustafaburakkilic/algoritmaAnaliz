{
 "cells": [
  {
   "cell_type": "code",
   "execution_count": 61,
   "metadata": {
    "collapsed": false
   },
   "outputs": [],
   "source": [
    "def power(x,y):\n",
    "    t=1\n",
    "    for i in range(0,y):\n",
    "        t=t*x\n",
    "    return t\n",
    "\n",
    "def power_recursive(x,y):\n",
    "    global s\n",
    "    s=0\n",
    "    print(x,\" üzeri \",y,\" sonucu =\",power_recursive2(x,y),\" || Bulduğu adım sayısı =\",s)\n",
    "    r=power_recursive2(x,y)\n",
    "    return r\n",
    "\n",
    "def power_recursive2(x,y):\n",
    "    global s\n",
    "    s=s+1\n",
    "    if(y==0):\n",
    "        return 1\n",
    "    if(y==1):\n",
    "        return x\n",
    "    if(y%2==0):\n",
    "        return power_recursive2(x*x,int(y/2))\n",
    "    else:\n",
    "        return power_recursive2(x*x,int(y/2))*x"
   ]
  },
  {
   "cell_type": "code",
   "execution_count": 62,
   "metadata": {
    "collapsed": false
   },
   "outputs": [
    {
     "name": "stdout",
     "output_type": "stream",
     "text": [
      "2  üzeri  16  sonucu = 65536  || Bulduğu adım sayısı = 5\n"
     ]
    },
    {
     "data": {
      "text/plain": [
       "65536"
      ]
     },
     "execution_count": 62,
     "metadata": {},
     "output_type": "execute_result"
    }
   ],
   "source": [
    "power_recursive(2,16)"
   ]
  },
  {
   "cell_type": "code",
   "execution_count": 60,
   "metadata": {
    "collapsed": false
   },
   "outputs": [
    {
     "name": "stdout",
     "output_type": "stream",
     "text": [
      "2  üzeri 8  değeri 256  çağrım sayısı :  4\n",
      "2  üzeri 16  değeri 65536  çağrım sayısı :  5\n",
      "2  üzeri 32  değeri 4294967296  çağrım sayısı :  6\n",
      "2  üzeri 8  değeri 256  çağrım sayısı :  4\n"
     ]
    }
   ],
   "source": [
    "def power_2(x,n):\n",
    "    global sayac\n",
    "    sayac=sayac+1\n",
    "    if(n==0):\n",
    "        return 1\n",
    "    if(n==1):\n",
    "        return x\n",
    "    if(n%2==0):\n",
    "        return power_2(x*x,int(n/2))\n",
    "    else:\n",
    "        return power_2(x*x,int(n/2))*x\n",
    "    \n",
    "def call_report_recursive(x,y):\n",
    "    global sayac\n",
    "    sayac=0\n",
    "    r=power_2(x,y)\n",
    "    print(x,\" üzeri\", y,\" değeri\",r ,\" çağrım sayısı : \",sayac)\n",
    "    \n",
    "call_report_recursive(2,8)\n",
    "call_report_recursive(2,16)\n",
    "call_report_recursive(2,32)\n",
    "call_report_recursive(2,8)"
   ]
  },
  {
   "cell_type": "code",
   "execution_count": null,
   "metadata": {
    "collapsed": true
   },
   "outputs": [],
   "source": []
  },
  {
   "cell_type": "code",
   "execution_count": null,
   "metadata": {
    "collapsed": true
   },
   "outputs": [],
   "source": []
  }
 ],
 "metadata": {
  "anaconda-cloud": {},
  "kernelspec": {
   "display_name": "Python [default]",
   "language": "python",
   "name": "python3"
  },
  "language_info": {
   "codemirror_mode": {
    "name": "ipython",
    "version": 3
   },
   "file_extension": ".py",
   "mimetype": "text/x-python",
   "name": "python",
   "nbconvert_exporter": "python",
   "pygments_lexer": "ipython3",
   "version": "3.5.2"
  }
 },
 "nbformat": 4,
 "nbformat_minor": 1
}
